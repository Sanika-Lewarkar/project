{
  "cells": [
    {
      "cell_type": "code",
      "execution_count": 50,
      "metadata": {
        "id": "fqIsJxUGQbR9"
      },
      "outputs": [],
      "source": [
        "import numpy as np \n",
        "import pandas as pd\n",
        "from sklearn import datasets\n",
        "import matplotlib.pyplot as plt\n",
        "from sklearn.discriminant_analysis import LinearDiscriminantAnalysis"
      ]
    },
    {
      "cell_type": "code",
      "execution_count": 51,
      "metadata": {
        "id": "G3nm7Ft4VMIC"
      },
      "outputs": [],
      "source": [
        "iris = datasets.load_iris()"
      ]
    },
    {
      "cell_type": "code",
      "execution_count": 52,
      "metadata": {
        "colab": {
          "base_uri": "https://localhost:8080/"
        },
        "id": "wEeyuZuag2zo",
        "outputId": "b9404b82-eb44-46a2-dafd-3b3e70abb329"
      },
      "outputs": [
        {
          "data": {
            "text/plain": [
              "array([[5.1, 3.5, 1.4, 0.2],\n",
              "       [4.9, 3. , 1.4, 0.2],\n",
              "       [4.7, 3.2, 1.3, 0.2],\n",
              "       [4.6, 3.1, 1.5, 0.2],\n",
              "       [5. , 3.6, 1.4, 0.2],\n",
              "       [5.4, 3.9, 1.7, 0.4],\n",
              "       [4.6, 3.4, 1.4, 0.3],\n",
              "       [5. , 3.4, 1.5, 0.2],\n",
              "       [4.4, 2.9, 1.4, 0.2],\n",
              "       [4.9, 3.1, 1.5, 0.1],\n",
              "       [5.4, 3.7, 1.5, 0.2],\n",
              "       [4.8, 3.4, 1.6, 0.2],\n",
              "       [4.8, 3. , 1.4, 0.1],\n",
              "       [4.3, 3. , 1.1, 0.1],\n",
              "       [5.8, 4. , 1.2, 0.2],\n",
              "       [5.7, 4.4, 1.5, 0.4],\n",
              "       [5.4, 3.9, 1.3, 0.4],\n",
              "       [5.1, 3.5, 1.4, 0.3],\n",
              "       [5.7, 3.8, 1.7, 0.3],\n",
              "       [5.1, 3.8, 1.5, 0.3],\n",
              "       [5.4, 3.4, 1.7, 0.2],\n",
              "       [5.1, 3.7, 1.5, 0.4],\n",
              "       [4.6, 3.6, 1. , 0.2],\n",
              "       [5.1, 3.3, 1.7, 0.5],\n",
              "       [4.8, 3.4, 1.9, 0.2],\n",
              "       [5. , 3. , 1.6, 0.2],\n",
              "       [5. , 3.4, 1.6, 0.4],\n",
              "       [5.2, 3.5, 1.5, 0.2],\n",
              "       [5.2, 3.4, 1.4, 0.2],\n",
              "       [4.7, 3.2, 1.6, 0.2],\n",
              "       [4.8, 3.1, 1.6, 0.2],\n",
              "       [5.4, 3.4, 1.5, 0.4],\n",
              "       [5.2, 4.1, 1.5, 0.1],\n",
              "       [5.5, 4.2, 1.4, 0.2],\n",
              "       [4.9, 3.1, 1.5, 0.2],\n",
              "       [5. , 3.2, 1.2, 0.2],\n",
              "       [5.5, 3.5, 1.3, 0.2],\n",
              "       [4.9, 3.6, 1.4, 0.1],\n",
              "       [4.4, 3. , 1.3, 0.2],\n",
              "       [5.1, 3.4, 1.5, 0.2],\n",
              "       [5. , 3.5, 1.3, 0.3],\n",
              "       [4.5, 2.3, 1.3, 0.3],\n",
              "       [4.4, 3.2, 1.3, 0.2],\n",
              "       [5. , 3.5, 1.6, 0.6],\n",
              "       [5.1, 3.8, 1.9, 0.4],\n",
              "       [4.8, 3. , 1.4, 0.3],\n",
              "       [5.1, 3.8, 1.6, 0.2],\n",
              "       [4.6, 3.2, 1.4, 0.2],\n",
              "       [5.3, 3.7, 1.5, 0.2],\n",
              "       [5. , 3.3, 1.4, 0.2],\n",
              "       [7. , 3.2, 4.7, 1.4],\n",
              "       [6.4, 3.2, 4.5, 1.5],\n",
              "       [6.9, 3.1, 4.9, 1.5],\n",
              "       [5.5, 2.3, 4. , 1.3],\n",
              "       [6.5, 2.8, 4.6, 1.5],\n",
              "       [5.7, 2.8, 4.5, 1.3],\n",
              "       [6.3, 3.3, 4.7, 1.6],\n",
              "       [4.9, 2.4, 3.3, 1. ],\n",
              "       [6.6, 2.9, 4.6, 1.3],\n",
              "       [5.2, 2.7, 3.9, 1.4],\n",
              "       [5. , 2. , 3.5, 1. ],\n",
              "       [5.9, 3. , 4.2, 1.5],\n",
              "       [6. , 2.2, 4. , 1. ],\n",
              "       [6.1, 2.9, 4.7, 1.4],\n",
              "       [5.6, 2.9, 3.6, 1.3],\n",
              "       [6.7, 3.1, 4.4, 1.4],\n",
              "       [5.6, 3. , 4.5, 1.5],\n",
              "       [5.8, 2.7, 4.1, 1. ],\n",
              "       [6.2, 2.2, 4.5, 1.5],\n",
              "       [5.6, 2.5, 3.9, 1.1],\n",
              "       [5.9, 3.2, 4.8, 1.8],\n",
              "       [6.1, 2.8, 4. , 1.3],\n",
              "       [6.3, 2.5, 4.9, 1.5],\n",
              "       [6.1, 2.8, 4.7, 1.2],\n",
              "       [6.4, 2.9, 4.3, 1.3],\n",
              "       [6.6, 3. , 4.4, 1.4],\n",
              "       [6.8, 2.8, 4.8, 1.4],\n",
              "       [6.7, 3. , 5. , 1.7],\n",
              "       [6. , 2.9, 4.5, 1.5],\n",
              "       [5.7, 2.6, 3.5, 1. ],\n",
              "       [5.5, 2.4, 3.8, 1.1],\n",
              "       [5.5, 2.4, 3.7, 1. ],\n",
              "       [5.8, 2.7, 3.9, 1.2],\n",
              "       [6. , 2.7, 5.1, 1.6],\n",
              "       [5.4, 3. , 4.5, 1.5],\n",
              "       [6. , 3.4, 4.5, 1.6],\n",
              "       [6.7, 3.1, 4.7, 1.5],\n",
              "       [6.3, 2.3, 4.4, 1.3],\n",
              "       [5.6, 3. , 4.1, 1.3],\n",
              "       [5.5, 2.5, 4. , 1.3],\n",
              "       [5.5, 2.6, 4.4, 1.2],\n",
              "       [6.1, 3. , 4.6, 1.4],\n",
              "       [5.8, 2.6, 4. , 1.2],\n",
              "       [5. , 2.3, 3.3, 1. ],\n",
              "       [5.6, 2.7, 4.2, 1.3],\n",
              "       [5.7, 3. , 4.2, 1.2],\n",
              "       [5.7, 2.9, 4.2, 1.3],\n",
              "       [6.2, 2.9, 4.3, 1.3],\n",
              "       [5.1, 2.5, 3. , 1.1],\n",
              "       [5.7, 2.8, 4.1, 1.3],\n",
              "       [6.3, 3.3, 6. , 2.5],\n",
              "       [5.8, 2.7, 5.1, 1.9],\n",
              "       [7.1, 3. , 5.9, 2.1],\n",
              "       [6.3, 2.9, 5.6, 1.8],\n",
              "       [6.5, 3. , 5.8, 2.2],\n",
              "       [7.6, 3. , 6.6, 2.1],\n",
              "       [4.9, 2.5, 4.5, 1.7],\n",
              "       [7.3, 2.9, 6.3, 1.8],\n",
              "       [6.7, 2.5, 5.8, 1.8],\n",
              "       [7.2, 3.6, 6.1, 2.5],\n",
              "       [6.5, 3.2, 5.1, 2. ],\n",
              "       [6.4, 2.7, 5.3, 1.9],\n",
              "       [6.8, 3. , 5.5, 2.1],\n",
              "       [5.7, 2.5, 5. , 2. ],\n",
              "       [5.8, 2.8, 5.1, 2.4],\n",
              "       [6.4, 3.2, 5.3, 2.3],\n",
              "       [6.5, 3. , 5.5, 1.8],\n",
              "       [7.7, 3.8, 6.7, 2.2],\n",
              "       [7.7, 2.6, 6.9, 2.3],\n",
              "       [6. , 2.2, 5. , 1.5],\n",
              "       [6.9, 3.2, 5.7, 2.3],\n",
              "       [5.6, 2.8, 4.9, 2. ],\n",
              "       [7.7, 2.8, 6.7, 2. ],\n",
              "       [6.3, 2.7, 4.9, 1.8],\n",
              "       [6.7, 3.3, 5.7, 2.1],\n",
              "       [7.2, 3.2, 6. , 1.8],\n",
              "       [6.2, 2.8, 4.8, 1.8],\n",
              "       [6.1, 3. , 4.9, 1.8],\n",
              "       [6.4, 2.8, 5.6, 2.1],\n",
              "       [7.2, 3. , 5.8, 1.6],\n",
              "       [7.4, 2.8, 6.1, 1.9],\n",
              "       [7.9, 3.8, 6.4, 2. ],\n",
              "       [6.4, 2.8, 5.6, 2.2],\n",
              "       [6.3, 2.8, 5.1, 1.5],\n",
              "       [6.1, 2.6, 5.6, 1.4],\n",
              "       [7.7, 3. , 6.1, 2.3],\n",
              "       [6.3, 3.4, 5.6, 2.4],\n",
              "       [6.4, 3.1, 5.5, 1.8],\n",
              "       [6. , 3. , 4.8, 1.8],\n",
              "       [6.9, 3.1, 5.4, 2.1],\n",
              "       [6.7, 3.1, 5.6, 2.4],\n",
              "       [6.9, 3.1, 5.1, 2.3],\n",
              "       [5.8, 2.7, 5.1, 1.9],\n",
              "       [6.8, 3.2, 5.9, 2.3],\n",
              "       [6.7, 3.3, 5.7, 2.5],\n",
              "       [6.7, 3. , 5.2, 2.3],\n",
              "       [6.3, 2.5, 5. , 1.9],\n",
              "       [6.5, 3. , 5.2, 2. ],\n",
              "       [6.2, 3.4, 5.4, 2.3],\n",
              "       [5.9, 3. , 5.1, 1.8]])"
            ]
          },
          "execution_count": 52,
          "metadata": {},
          "output_type": "execute_result"
        }
      ],
      "source": [
        "iris.data"
      ]
    },
    {
      "cell_type": "code",
      "execution_count": 53,
      "metadata": {
        "colab": {
          "base_uri": "https://localhost:8080/"
        },
        "id": "XFHBxVbZWJO-",
        "outputId": "f23336eb-9fdf-4379-b7e3-b05aae89e951"
      },
      "outputs": [
        {
          "data": {
            "text/plain": [
              "['sepal length (cm)',\n",
              " 'sepal width (cm)',\n",
              " 'petal length (cm)',\n",
              " 'petal width (cm)']"
            ]
          },
          "execution_count": 53,
          "metadata": {},
          "output_type": "execute_result"
        }
      ],
      "source": [
        "iris.feature_names"
      ]
    },
    {
      "cell_type": "code",
      "execution_count": 54,
      "metadata": {
        "colab": {
          "base_uri": "https://localhost:8080/"
        },
        "id": "IHskbB6flJWU",
        "outputId": "79b88ec2-c1dd-4904-af0c-b125e3bb7071"
      },
      "outputs": [
        {
          "name": "stdout",
          "output_type": "stream",
          "text": [
            "[[5.1 3.5 1.4 0.2]\n",
            " [4.9 3.  1.4 0.2]\n",
            " [4.7 3.2 1.3 0.2]\n",
            " [4.6 3.1 1.5 0.2]\n",
            " [5.  3.6 1.4 0.2]\n",
            " [5.4 3.9 1.7 0.4]\n",
            " [4.6 3.4 1.4 0.3]\n",
            " [5.  3.4 1.5 0.2]\n",
            " [4.4 2.9 1.4 0.2]\n",
            " [4.9 3.1 1.5 0.1]\n",
            " [5.4 3.7 1.5 0.2]\n",
            " [4.8 3.4 1.6 0.2]\n",
            " [4.8 3.  1.4 0.1]\n",
            " [4.3 3.  1.1 0.1]\n",
            " [5.8 4.  1.2 0.2]\n",
            " [5.7 4.4 1.5 0.4]\n",
            " [5.4 3.9 1.3 0.4]\n",
            " [5.1 3.5 1.4 0.3]\n",
            " [5.7 3.8 1.7 0.3]\n",
            " [5.1 3.8 1.5 0.3]\n",
            " [5.4 3.4 1.7 0.2]\n",
            " [5.1 3.7 1.5 0.4]\n",
            " [4.6 3.6 1.  0.2]\n",
            " [5.1 3.3 1.7 0.5]\n",
            " [4.8 3.4 1.9 0.2]\n",
            " [5.  3.  1.6 0.2]\n",
            " [5.  3.4 1.6 0.4]\n",
            " [5.2 3.5 1.5 0.2]\n",
            " [5.2 3.4 1.4 0.2]\n",
            " [4.7 3.2 1.6 0.2]\n",
            " [4.8 3.1 1.6 0.2]\n",
            " [5.4 3.4 1.5 0.4]\n",
            " [5.2 4.1 1.5 0.1]\n",
            " [5.5 4.2 1.4 0.2]\n",
            " [4.9 3.1 1.5 0.2]\n",
            " [5.  3.2 1.2 0.2]\n",
            " [5.5 3.5 1.3 0.2]\n",
            " [4.9 3.6 1.4 0.1]\n",
            " [4.4 3.  1.3 0.2]\n",
            " [5.1 3.4 1.5 0.2]\n",
            " [5.  3.5 1.3 0.3]\n",
            " [4.5 2.3 1.3 0.3]\n",
            " [4.4 3.2 1.3 0.2]\n",
            " [5.  3.5 1.6 0.6]\n",
            " [5.1 3.8 1.9 0.4]\n",
            " [4.8 3.  1.4 0.3]\n",
            " [5.1 3.8 1.6 0.2]\n",
            " [4.6 3.2 1.4 0.2]\n",
            " [5.3 3.7 1.5 0.2]\n",
            " [5.  3.3 1.4 0.2]\n",
            " [7.  3.2 4.7 1.4]\n",
            " [6.4 3.2 4.5 1.5]\n",
            " [6.9 3.1 4.9 1.5]\n",
            " [5.5 2.3 4.  1.3]\n",
            " [6.5 2.8 4.6 1.5]\n",
            " [5.7 2.8 4.5 1.3]\n",
            " [6.3 3.3 4.7 1.6]\n",
            " [4.9 2.4 3.3 1. ]\n",
            " [6.6 2.9 4.6 1.3]\n",
            " [5.2 2.7 3.9 1.4]\n",
            " [5.  2.  3.5 1. ]\n",
            " [5.9 3.  4.2 1.5]\n",
            " [6.  2.2 4.  1. ]\n",
            " [6.1 2.9 4.7 1.4]\n",
            " [5.6 2.9 3.6 1.3]\n",
            " [6.7 3.1 4.4 1.4]\n",
            " [5.6 3.  4.5 1.5]\n",
            " [5.8 2.7 4.1 1. ]\n",
            " [6.2 2.2 4.5 1.5]\n",
            " [5.6 2.5 3.9 1.1]\n",
            " [5.9 3.2 4.8 1.8]\n",
            " [6.1 2.8 4.  1.3]\n",
            " [6.3 2.5 4.9 1.5]\n",
            " [6.1 2.8 4.7 1.2]\n",
            " [6.4 2.9 4.3 1.3]\n",
            " [6.6 3.  4.4 1.4]\n",
            " [6.8 2.8 4.8 1.4]\n",
            " [6.7 3.  5.  1.7]\n",
            " [6.  2.9 4.5 1.5]\n",
            " [5.7 2.6 3.5 1. ]\n",
            " [5.5 2.4 3.8 1.1]\n",
            " [5.5 2.4 3.7 1. ]\n",
            " [5.8 2.7 3.9 1.2]\n",
            " [6.  2.7 5.1 1.6]\n",
            " [5.4 3.  4.5 1.5]\n",
            " [6.  3.4 4.5 1.6]\n",
            " [6.7 3.1 4.7 1.5]\n",
            " [6.3 2.3 4.4 1.3]\n",
            " [5.6 3.  4.1 1.3]\n",
            " [5.5 2.5 4.  1.3]\n",
            " [5.5 2.6 4.4 1.2]\n",
            " [6.1 3.  4.6 1.4]\n",
            " [5.8 2.6 4.  1.2]\n",
            " [5.  2.3 3.3 1. ]\n",
            " [5.6 2.7 4.2 1.3]\n",
            " [5.7 3.  4.2 1.2]\n",
            " [5.7 2.9 4.2 1.3]\n",
            " [6.2 2.9 4.3 1.3]\n",
            " [5.1 2.5 3.  1.1]\n",
            " [5.7 2.8 4.1 1.3]\n",
            " [6.3 3.3 6.  2.5]\n",
            " [5.8 2.7 5.1 1.9]\n",
            " [7.1 3.  5.9 2.1]\n",
            " [6.3 2.9 5.6 1.8]\n",
            " [6.5 3.  5.8 2.2]\n",
            " [7.6 3.  6.6 2.1]\n",
            " [4.9 2.5 4.5 1.7]\n",
            " [7.3 2.9 6.3 1.8]\n",
            " [6.7 2.5 5.8 1.8]\n",
            " [7.2 3.6 6.1 2.5]\n",
            " [6.5 3.2 5.1 2. ]\n",
            " [6.4 2.7 5.3 1.9]\n",
            " [6.8 3.  5.5 2.1]\n",
            " [5.7 2.5 5.  2. ]\n",
            " [5.8 2.8 5.1 2.4]\n",
            " [6.4 3.2 5.3 2.3]\n",
            " [6.5 3.  5.5 1.8]\n",
            " [7.7 3.8 6.7 2.2]\n",
            " [7.7 2.6 6.9 2.3]\n",
            " [6.  2.2 5.  1.5]\n",
            " [6.9 3.2 5.7 2.3]\n",
            " [5.6 2.8 4.9 2. ]\n",
            " [7.7 2.8 6.7 2. ]\n",
            " [6.3 2.7 4.9 1.8]\n",
            " [6.7 3.3 5.7 2.1]\n",
            " [7.2 3.2 6.  1.8]\n",
            " [6.2 2.8 4.8 1.8]\n",
            " [6.1 3.  4.9 1.8]\n",
            " [6.4 2.8 5.6 2.1]\n",
            " [7.2 3.  5.8 1.6]\n",
            " [7.4 2.8 6.1 1.9]\n",
            " [7.9 3.8 6.4 2. ]\n",
            " [6.4 2.8 5.6 2.2]\n",
            " [6.3 2.8 5.1 1.5]\n",
            " [6.1 2.6 5.6 1.4]\n",
            " [7.7 3.  6.1 2.3]\n",
            " [6.3 3.4 5.6 2.4]\n",
            " [6.4 3.1 5.5 1.8]\n",
            " [6.  3.  4.8 1.8]\n",
            " [6.9 3.1 5.4 2.1]\n",
            " [6.7 3.1 5.6 2.4]\n",
            " [6.9 3.1 5.1 2.3]\n",
            " [5.8 2.7 5.1 1.9]\n",
            " [6.8 3.2 5.9 2.3]\n",
            " [6.7 3.3 5.7 2.5]\n",
            " [6.7 3.  5.2 2.3]\n",
            " [6.3 2.5 5.  1.9]\n",
            " [6.5 3.  5.2 2. ]\n",
            " [6.2 3.4 5.4 2.3]\n",
            " [5.9 3.  5.1 1.8]]\n"
          ]
        }
      ],
      "source": [
        "\n",
        "print(x)"
      ]
    },
    {
      "cell_type": "code",
      "execution_count": 55,
      "metadata": {
        "colab": {
          "base_uri": "https://localhost:8080/"
        },
        "id": "s1gtK-SlWQ1H",
        "outputId": "e295a8bb-5127-473f-eb48-92068035625d"
      },
      "outputs": [
        {
          "data": {
            "text/plain": [
              "array(['setosa', 'versicolor', 'virginica'], dtype='<U10')"
            ]
          },
          "execution_count": 55,
          "metadata": {},
          "output_type": "execute_result"
        }
      ],
      "source": [
        "iris.target_names"
      ]
    },
    {
      "cell_type": "code",
      "execution_count": 56,
      "metadata": {
        "colab": {
          "base_uri": "https://localhost:8080/"
        },
        "id": "L83kdZCJlPVt",
        "outputId": "a10df451-3f4c-481d-e886-f4f04e36fb32"
      },
      "outputs": [
        {
          "name": "stdout",
          "output_type": "stream",
          "text": [
            "[0 0 0 0 0 0 0 0 0 0 0 0 0 0 0 0 0 0 0 0 0 0 0 0 0 0 0 0 0 0 0 0 0 0 0 0 0\n",
            " 0 0 0 0 0 0 0 0 0 0 0 0 0 1 1 1 1 1 1 1 1 1 1 1 1 1 1 1 1 1 1 1 1 1 1 1 1\n",
            " 1 1 1 1 1 1 1 1 1 1 1 1 1 1 1 1 1 1 1 1 1 1 1 1 1 1 2 2 2 2 2 2 2 2 2 2 2\n",
            " 2 2 2 2 2 2 2 2 2 2 2 2 2 2 2 2 2 2 2 2 2 2 2 2 2 2 2 2 2 2 2 2 2 2 2 2 2\n",
            " 2 2]\n"
          ]
        }
      ],
      "source": [
        "#print the values of dependent variable\n",
        "#['setosa', 'versicolor', 'virginica']\n",
        "\n",
        "print(y)"
      ]
    },
    {
      "cell_type": "code",
      "execution_count": 57,
      "metadata": {
        "id": "Gs_LsPXgWbty"
      },
      "outputs": [],
      "source": [
        "x = iris.data\n",
        "y = iris.target\n",
        "lda = LinearDiscriminantAnalysis()\n",
        "x_R = lda.fit(x,y).transform(x)\n"
      ]
    },
    {
      "cell_type": "code",
      "execution_count": 58,
      "metadata": {
        "colab": {
          "base_uri": "https://localhost:8080/"
        },
        "id": "Eu-qg3qwjl2U",
        "outputId": "f039ebc5-31bc-414e-8619-72ea570b6c09"
      },
      "outputs": [
        {
          "name": "stdout",
          "output_type": "stream",
          "text": [
            "[[ 8.06179978e+00  3.00420621e-01]\n",
            " [ 7.12868772e+00 -7.86660426e-01]\n",
            " [ 7.48982797e+00 -2.65384488e-01]\n",
            " [ 6.81320057e+00 -6.70631068e-01]\n",
            " [ 8.13230933e+00  5.14462530e-01]\n",
            " [ 7.70194674e+00  1.46172097e+00]\n",
            " [ 7.21261762e+00  3.55836209e-01]\n",
            " [ 7.60529355e+00 -1.16338380e-02]\n",
            " [ 6.56055159e+00 -1.01516362e+00]\n",
            " [ 7.34305989e+00 -9.47319209e-01]\n",
            " [ 8.39738652e+00  6.47363392e-01]\n",
            " [ 7.21929685e+00 -1.09646389e-01]\n",
            " [ 7.32679599e+00 -1.07298943e+00]\n",
            " [ 7.57247066e+00 -8.05464137e-01]\n",
            " [ 9.84984300e+00  1.58593698e+00]\n",
            " [ 9.15823890e+00  2.73759647e+00]\n",
            " [ 8.58243141e+00  1.83448945e+00]\n",
            " [ 7.78075375e+00  5.84339407e-01]\n",
            " [ 8.07835876e+00  9.68580703e-01]\n",
            " [ 8.02097451e+00  1.14050366e+00]\n",
            " [ 7.49680227e+00 -1.88377220e-01]\n",
            " [ 7.58648117e+00  1.20797032e+00]\n",
            " [ 8.68104293e+00  8.77590154e-01]\n",
            " [ 6.25140358e+00  4.39696367e-01]\n",
            " [ 6.55893336e+00 -3.89222752e-01]\n",
            " [ 6.77138315e+00 -9.70634453e-01]\n",
            " [ 6.82308032e+00  4.63011612e-01]\n",
            " [ 7.92461638e+00  2.09638715e-01]\n",
            " [ 7.99129024e+00  8.63787128e-02]\n",
            " [ 6.82946447e+00 -5.44960851e-01]\n",
            " [ 6.75895493e+00 -7.59002759e-01]\n",
            " [ 7.37495254e+00  5.65844592e-01]\n",
            " [ 9.12634625e+00  1.22443267e+00]\n",
            " [ 9.46768199e+00  1.82522635e+00]\n",
            " [ 7.06201386e+00 -6.63400423e-01]\n",
            " [ 7.95876243e+00 -1.64961722e-01]\n",
            " [ 8.61367201e+00  4.03253602e-01]\n",
            " [ 8.33041759e+00  2.28133530e-01]\n",
            " [ 6.93412007e+00 -7.05519379e-01]\n",
            " [ 7.68823131e+00 -9.22362309e-03]\n",
            " [ 7.91793715e+00  6.75121313e-01]\n",
            " [ 5.66188065e+00 -1.93435524e+00]\n",
            " [ 7.24101468e+00 -2.72615132e-01]\n",
            " [ 6.41443556e+00  1.24730131e+00]\n",
            " [ 6.85944381e+00  1.05165396e+00]\n",
            " [ 6.76470393e+00 -5.05151855e-01]\n",
            " [ 8.08189937e+00  7.63392750e-01]\n",
            " [ 7.18676904e+00 -3.60986823e-01]\n",
            " [ 8.31444876e+00  6.44953177e-01]\n",
            " [ 7.67196741e+00 -1.34893840e-01]\n",
            " [-1.45927545e+00  2.85437643e-02]\n",
            " [-1.79770574e+00  4.84385502e-01]\n",
            " [-2.41694888e+00 -9.27840307e-02]\n",
            " [-2.26247349e+00 -1.58725251e+00]\n",
            " [-2.54867836e+00 -4.72204898e-01]\n",
            " [-2.42996725e+00 -9.66132066e-01]\n",
            " [-2.44848456e+00  7.95961954e-01]\n",
            " [-2.22666513e-01 -1.58467318e+00]\n",
            " [-1.75020123e+00 -8.21180130e-01]\n",
            " [-1.95842242e+00 -3.51563753e-01]\n",
            " [-1.19376031e+00 -2.63445570e+00]\n",
            " [-1.85892567e+00  3.19006544e-01]\n",
            " [-1.15809388e+00 -2.64340991e+00]\n",
            " [-2.66605725e+00 -6.42504540e-01]\n",
            " [-3.78367218e-01  8.66389312e-02]\n",
            " [-1.20117255e+00  8.44373592e-02]\n",
            " [-2.76810246e+00  3.21995363e-02]\n",
            " [-7.76854039e-01 -1.65916185e+00]\n",
            " [-3.49805433e+00 -1.68495616e+00]\n",
            " [-1.09042788e+00 -1.62658350e+00]\n",
            " [-3.71589615e+00  1.04451442e+00]\n",
            " [-9.97610366e-01 -4.90530602e-01]\n",
            " [-3.83525931e+00 -1.40595806e+00]\n",
            " [-2.25741249e+00 -1.42679423e+00]\n",
            " [-1.25571326e+00 -5.46424197e-01]\n",
            " [-1.43755762e+00 -1.34424979e-01]\n",
            " [-2.45906137e+00 -9.35277280e-01]\n",
            " [-3.51848495e+00  1.60588866e-01]\n",
            " [-2.58979871e+00 -1.74611728e-01]\n",
            " [ 3.07487884e-01 -1.31887146e+00]\n",
            " [-1.10669179e+00 -1.75225371e+00]\n",
            " [-6.05524589e-01 -1.94298038e+00]\n",
            " [-8.98703769e-01 -9.04940034e-01]\n",
            " [-4.49846635e+00 -8.82749915e-01]\n",
            " [-2.93397799e+00  2.73791065e-02]\n",
            " [-2.10360821e+00  1.19156767e+00]\n",
            " [-2.14258208e+00  8.87797815e-02]\n",
            " [-2.47945603e+00 -1.94073927e+00]\n",
            " [-1.32552574e+00 -1.62869550e-01]\n",
            " [-1.95557887e+00 -1.15434826e+00]\n",
            " [-2.40157020e+00 -1.59458341e+00]\n",
            " [-2.29248878e+00 -3.32860296e-01]\n",
            " [-1.27227224e+00 -1.21458428e+00]\n",
            " [-2.93176055e-01 -1.79871509e+00]\n",
            " [-2.00598883e+00 -9.05418042e-01]\n",
            " [-1.18166311e+00 -5.37570242e-01]\n",
            " [-1.61615645e+00 -4.70103580e-01]\n",
            " [-1.42158879e+00 -5.51244626e-01]\n",
            " [ 4.75973788e-01 -7.99905482e-01]\n",
            " [-1.54948259e+00 -5.93363582e-01]\n",
            " [-7.83947399e+00  2.13973345e+00]\n",
            " [-5.50747997e+00 -3.58139892e-02]\n",
            " [-6.29200850e+00  4.67175777e-01]\n",
            " [-5.60545633e+00 -3.40738058e-01]\n",
            " [-6.85055995e+00  8.29825394e-01]\n",
            " [-7.41816784e+00 -1.73117995e-01]\n",
            " [-4.67799541e+00 -4.99095015e-01]\n",
            " [-6.31692685e+00 -9.68980756e-01]\n",
            " [-6.32773684e+00 -1.38328993e+00]\n",
            " [-6.85281335e+00  2.71758963e+00]\n",
            " [-4.44072512e+00  1.34723692e+00]\n",
            " [-5.45009572e+00 -2.07736942e-01]\n",
            " [-5.66033713e+00  8.32713617e-01]\n",
            " [-5.95823722e+00 -9.40175447e-02]\n",
            " [-6.75926282e+00  1.60023206e+00]\n",
            " [-5.80704331e+00  2.01019882e+00]\n",
            " [-5.06601233e+00 -2.62733839e-02]\n",
            " [-6.60881882e+00  1.75163587e+00]\n",
            " [-9.17147486e+00 -7.48255067e-01]\n",
            " [-4.76453569e+00 -2.15573720e+00]\n",
            " [-6.27283915e+00  1.64948141e+00]\n",
            " [-5.36071189e+00  6.46120732e-01]\n",
            " [-7.58119982e+00 -9.80722934e-01]\n",
            " [-4.37150279e+00 -1.21297458e-01]\n",
            " [-5.72317531e+00  1.29327553e+00]\n",
            " [-5.27915920e+00 -4.24582377e-02]\n",
            " [-4.08087208e+00  1.85936572e-01]\n",
            " [-4.07703640e+00  5.23238483e-01]\n",
            " [-6.51910397e+00  2.96976389e-01]\n",
            " [-4.58371942e+00 -8.56815813e-01]\n",
            " [-6.22824009e+00 -7.12719638e-01]\n",
            " [-5.22048773e+00  1.46819509e+00]\n",
            " [-6.80015000e+00  5.80895175e-01]\n",
            " [-3.81515972e+00 -9.42985932e-01]\n",
            " [-5.10748966e+00 -2.13059000e+00]\n",
            " [-6.79671631e+00  8.63090395e-01]\n",
            " [-6.52449599e+00  2.44503527e+00]\n",
            " [-4.99550279e+00  1.87768525e-01]\n",
            " [-3.93985300e+00  6.14020389e-01]\n",
            " [-5.20383090e+00  1.14476808e+00]\n",
            " [-6.65308685e+00  1.80531976e+00]\n",
            " [-5.10555946e+00  1.99218201e+00]\n",
            " [-5.50747997e+00 -3.58139892e-02]\n",
            " [-6.79601924e+00  1.46068695e+00]\n",
            " [-6.84735943e+00  2.42895067e+00]\n",
            " [-5.64500346e+00  1.67771734e+00]\n",
            " [-5.17956460e+00 -3.63475041e-01]\n",
            " [-4.96774090e+00  8.21140550e-01]\n",
            " [-5.88614539e+00  2.34509051e+00]\n",
            " [-4.68315426e+00  3.32033811e-01]]\n"
          ]
        }
      ],
      "source": [
        "\n",
        "\n",
        "print(x_R)"
      ]
    },
    {
      "cell_type": "code",
      "execution_count": 59,
      "metadata": {
        "colab": {
          "base_uri": "https://localhost:8080/"
        },
        "id": "rUm3JcjPXGjn",
        "outputId": "2392a5e3-6fc8-4471-b69d-bdd8d7aafafd"
      },
      "outputs": [
        {
          "data": {
            "text/plain": [
              "array([0.9912126, 0.0087874])"
            ]
          },
          "execution_count": 59,
          "metadata": {},
          "output_type": "execute_result"
        }
      ],
      "source": [
        "lda.explained_variance_ratio_"
      ]
    },
    {
      "cell_type": "code",
      "execution_count": 60,
      "metadata": {
        "colab": {
          "base_uri": "https://localhost:8080/",
          "height": 287
        },
        "id": "NT_eU5-dmDR8",
        "outputId": "81c3c88d-6f5d-4dac-a9d0-02497d2742ba"
      },
      "outputs": [
        {
          "data": {
            "text/plain": [
              "<matplotlib.collections.PathCollection at 0x7f54401f1090>"
            ]
          },
          "execution_count": 60,
          "metadata": {},
          "output_type": "execute_result"
        },
        {
          "data": {
            "image/png": "[encoded data removed]",
            "text/plain": [
              "<Figure size 432x288 with 1 Axes>"
            ]
          },
          "metadata": {
            "needs_background": "light"
          },
          "output_type": "display_data"
        }
      ],
      "source": [
        "plt.scatter(x_R[:,0],x_R[:,1])"
      ]
    },
    {
      "cell_type": "code",
      "execution_count": 61,
      "metadata": {
        "colab": {
          "base_uri": "https://localhost:8080/"
        },
        "id": "-CW38GFAXJzZ",
        "outputId": "b69f1994-8174-4650-e078-1e323b3c9a86"
      },
      "outputs": [
        {
          "name": "stdout",
          "output_type": "stream",
          "text": [
            "[[5.006 3.428 1.462 0.246]\n",
            " [5.936 2.77  4.26  1.326]\n",
            " [6.588 2.974 5.552 2.026]]\n"
          ]
        }
      ],
      "source": [
        "print(lda.means_)"
      ]
    },
    {
      "cell_type": "code",
      "execution_count": 62,
      "metadata": {
        "colab": {
          "base_uri": "https://localhost:8080/"
        },
        "id": "U8UGk8DaXa_8",
        "outputId": "ebc3e6ff-5f24-42d0-ed11-a673c9d8d1f8"
      },
      "outputs": [
        {
          "name": "stdout",
          "output_type": "stream",
          "text": [
            "[0.33333333 0.33333333 0.33333333]\n"
          ]
        }
      ],
      "source": [
        "print(lda.priors_)"
      ]
    },
    {
      "cell_type": "code",
      "execution_count": 63,
      "metadata": {
        "colab": {
          "base_uri": "https://localhost:8080/"
        },
        "id": "r2KOOuU3XgPR",
        "outputId": "4acb015b-5430-4040-a848-6a024a6890de"
      },
      "outputs": [
        {
          "name": "stdout",
          "output_type": "stream",
          "text": [
            "[0 0 0 0 0 0 0 0 0 0 0 0 0 0 0 0 0 0 0 0 0 0 0 0 0 0 0 0 0 0 0 0 0 0 0 0 0\n",
            " 0 0 0 0 0 0 0 0 0 0 0 0 0 1 1 1 1 1 1 1 1 1 1 1 1 1 1 1 1 1 1 1 1 2 1 1 1\n",
            " 1 1 1 1 1 1 1 1 1 2 1 1 1 1 1 1 1 1 1 1 1 1 1 1 1 1 2 2 2 2 2 2 2 2 2 2 2\n",
            " 2 2 2 2 2 2 2 2 2 2 2 2 2 2 2 2 2 2 2 2 2 2 1 2 2 2 2 2 2 2 2 2 2 2 2 2 2\n",
            " 2 2]\n"
          ]
        }
      ],
      "source": [
        "print(lda.predict(x))"
      ]
    },
    {
      "cell_type": "code",
      "execution_count": 64,
      "metadata": {
        "colab": {
          "base_uri": "https://localhost:8080/"
        },
        "id": "mqXc2yZnXq9F",
        "outputId": "7cf0d1f2-a001-4397-a922-cfd7303316a5"
      },
      "outputs": [
        {
          "data": {
            "text/plain": [
              "0.98"
            ]
          },
          "execution_count": 64,
          "metadata": {},
          "output_type": "execute_result"
        }
      ],
      "source": [
        "lda.score(x,y)"
      ]
    }
  ],
  "metadata": {
    "colab": {
      "provenance": []
    },
    "kernelspec": {
      "display_name": "Python 3",
      "name": "python3"
    },
    "language_info": {
      "name": "python"
    }
  },
  "nbformat": 4,
  "nbformat_minor": 0
}
